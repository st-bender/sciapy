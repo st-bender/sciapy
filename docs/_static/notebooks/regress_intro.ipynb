{
 "cells": [
  {
   "cell_type": "markdown",
   "metadata": {},
   "source": [
    "# Regression model intro\n",
    "## Standard imports\n",
    "\n",
    "First, setup some standard modules and matplotlib."
   ]
  },
  {
   "cell_type": "code",
   "execution_count": 1,
   "metadata": {},
   "outputs": [],
   "source": [
    "%matplotlib inline\n",
    "%config InlineBackend.figure_format = 'png'\n",
    "\n",
    "import numpy as np\n",
    "import xarray as xr\n",
    "\n",
    "import matplotlib.pyplot as plt"
   ]
  },
  {
   "cell_type": "markdown",
   "metadata": {},
   "source": [
    "Load the main `sciapy` module and its wrappers for easy access to the used proxy timeseries."
   ]
  },
  {
   "cell_type": "code",
   "execution_count": 2,
   "metadata": {},
   "outputs": [],
   "source": [
    "import sciapy\n",
    "from sciapy.regress.load_data import load_dailymeanAE, load_dailymeanLya"
   ]
  },
  {
   "cell_type": "code",
   "execution_count": 3,
   "metadata": {},
   "outputs": [],
   "source": [
    "plt.rcParams[\"figure.dpi\"] = 120"
   ]
  },
  {
   "cell_type": "markdown",
   "metadata": {},
   "source": [
    "## Model interface\n",
    "\n",
    "The model is set up part by part, beginning with the more involved proxy models."
   ]
  },
  {
   "cell_type": "markdown",
   "metadata": {},
   "source": [
    "### Lyman-$\\alpha$ proxy\n",
    "\n",
    "We start with the Lyman-$\\alpha$ proxy, it is not centered (mean-subtracted) and we set the rest of the parameters except `ltscan` to zero."
   ]
  },
  {
   "cell_type": "code",
   "execution_count": 4,
   "metadata": {},
   "outputs": [],
   "source": [
    "# load proxy data\n",
    "plat, plap = load_dailymeanLya()\n",
    "# setup the model\n",
    "lya_model = sciapy.regress.ProxyModel(plat,\n",
    "                                      plap[\"Lya\"],\n",
    "                                      center=False,\n",
    "                                      amp=0,\n",
    "                                      lag=0,\n",
    "                                      tau0=0,\n",
    "                                      taucos1=0, tausin1=0,\n",
    "                                      taucos2=0, tausin2=0,\n",
    "                                      ltscan=60)"
   ]
  },
  {
   "cell_type": "markdown",
   "metadata": {},
   "source": [
    "### AE proxy with lifetime\n",
    "\n",
    "The AE proxy is also not centered and we start with the same parameters as above."
   ]
  },
  {
   "cell_type": "code",
   "execution_count": 5,
   "metadata": {},
   "outputs": [],
   "source": [
    "# load proxy data\n",
    "paet, paep = load_dailymeanAE()\n",
    "# setup the model\n",
    "ae_model = sciapy.regress.ProxyModel(paet,\n",
    "                                     paep[\"AE\"],\n",
    "                                     center=False,\n",
    "                                     amp=0,\n",
    "                                     lag=0,\n",
    "                                     tau0=0,\n",
    "                                     taucos1=0, tausin1=0,\n",
    "                                     taucos2=0, tausin2=0,\n",
    "                                     ltscan=60)"
   ]
  },
  {
   "cell_type": "markdown",
   "metadata": {},
   "source": [
    "### Offset\n",
    "\n",
    "We use the `ConstantModel` (inherited from `celerite`) for the constant offset."
   ]
  },
  {
   "cell_type": "code",
   "execution_count": 6,
   "metadata": {},
   "outputs": [],
   "source": [
    "offset_model = sciapy.regress.ConstantModel(value=0.)"
   ]
  },
  {
   "cell_type": "markdown",
   "metadata": {},
   "source": [
    "### Optional harmonic terms\n",
    "\n",
    "The harmonic terms are not used here but we include them to show how to set them up."
   ]
  },
  {
   "cell_type": "code",
   "execution_count": 7,
   "metadata": {},
   "outputs": [],
   "source": [
    "harm1 = sciapy.regress.HarmonicModelCosineSine(freq=1, cos=0, sin=0)\n",
    "harm2 = sciapy.regress.HarmonicModelCosineSine(freq=2, cos=0, sin=0)\n",
    "\n",
    "# frequencies should not be fitted\n",
    "harm1.freeze_parameter(\"freq\")\n",
    "harm2.freeze_parameter(\"freq\")"
   ]
  },
  {
   "cell_type": "markdown",
   "metadata": {},
   "source": [
    "### Combined model\n",
    "\n",
    "We then combine the separate models into a `ModelSet`."
   ]
  },
  {
   "cell_type": "code",
   "execution_count": 8,
   "metadata": {},
   "outputs": [],
   "source": [
    "model = sciapy.regress.TraceGasModelSet([(\"offset\", offset_model),\n",
    "                                         (\"Lya\", lya_model), (\"GM\", ae_model),\n",
    "                                         (\"f1\", harm1), (\"f2\", harm2)])"
   ]
  },
  {
   "cell_type": "markdown",
   "metadata": {},
   "source": [
    "The full model has the following parameters:"
   ]
  },
  {
   "cell_type": "code",
   "execution_count": 9,
   "metadata": {},
   "outputs": [
    {
     "data": {
      "text/plain": [
       "OrderedDict([('offset:value', 0.0),\n",
       "             ('Lya:amp', 0.0),\n",
       "             ('Lya:lag', 0.0),\n",
       "             ('Lya:tau0', 0.0),\n",
       "             ('Lya:taucos1', 0.0),\n",
       "             ('Lya:tausin1', 0.0),\n",
       "             ('Lya:taucos2', 0.0),\n",
       "             ('Lya:tausin2', 0.0),\n",
       "             ('Lya:ltscan', 60.0),\n",
       "             ('GM:amp', 0.0),\n",
       "             ('GM:lag', 0.0),\n",
       "             ('GM:tau0', 0.0),\n",
       "             ('GM:taucos1', 0.0),\n",
       "             ('GM:tausin1', 0.0),\n",
       "             ('GM:taucos2', 0.0),\n",
       "             ('GM:tausin2', 0.0),\n",
       "             ('GM:ltscan', 60.0),\n",
       "             ('f1:cos', 0.0),\n",
       "             ('f1:sin', 0.0),\n",
       "             ('f2:cos', 0.0),\n",
       "             ('f2:sin', 0.0)])"
      ]
     },
     "execution_count": 9,
     "metadata": {},
     "output_type": "execute_result"
    }
   ],
   "source": [
    "model.get_parameter_dict()"
   ]
  },
  {
   "cell_type": "markdown",
   "metadata": {},
   "source": [
    "But we don't need all of them, so we freeze all parameters and thaw the ones we need.\n",
    "This is easier than the other way around (freezing all unused parameters)."
   ]
  },
  {
   "cell_type": "code",
   "execution_count": 10,
   "metadata": {},
   "outputs": [],
   "source": [
    "model.freeze_all_parameters()\n",
    "model.thaw_parameter(\"offset:value\")\n",
    "model.thaw_parameter(\"Lya:amp\")\n",
    "model.thaw_parameter(\"GM:amp\")\n",
    "model.thaw_parameter(\"GM:tau0\")\n",
    "model.thaw_parameter(\"GM:taucos1\")\n",
    "model.thaw_parameter(\"GM:tausin1\")"
   ]
  },
  {
   "cell_type": "markdown",
   "metadata": {},
   "source": [
    "Cross check that only the used parameters are really active:"
   ]
  },
  {
   "cell_type": "code",
   "execution_count": 11,
   "metadata": {},
   "outputs": [
    {
     "data": {
      "text/plain": [
       "OrderedDict([('offset:value', 0.0),\n",
       "             ('Lya:amp', 0.0),\n",
       "             ('GM:amp', 0.0),\n",
       "             ('GM:tau0', 0.0),\n",
       "             ('GM:taucos1', 0.0),\n",
       "             ('GM:tausin1', 0.0)])"
      ]
     },
     "execution_count": 11,
     "metadata": {},
     "output_type": "execute_result"
    }
   ],
   "source": [
    "model.get_parameter_dict()"
   ]
  },
  {
   "cell_type": "markdown",
   "metadata": {},
   "source": [
    "## Model parameters"
   ]
  },
  {
   "cell_type": "markdown",
   "metadata": {},
   "source": [
    "### Manually setting the parameters"
   ]
  },
  {
   "cell_type": "markdown",
   "metadata": {},
   "source": [
    "Now we set the model parameters to something non-trivial, with the same order as listed above:"
   ]
  },
  {
   "cell_type": "code",
   "execution_count": 12,
   "metadata": {},
   "outputs": [],
   "source": [
    "model.set_parameter_vector([-25.6, 6.26, 0.0874, 1.54, 10.52, -0.714])"
   ]
  },
  {
   "cell_type": "code",
   "execution_count": 13,
   "metadata": {},
   "outputs": [
    {
     "data": {
      "text/plain": [
       "OrderedDict([('offset:value', -25.6),\n",
       "             ('Lya:amp', 6.26),\n",
       "             ('GM:amp', 0.0874),\n",
       "             ('GM:tau0', 1.54),\n",
       "             ('GM:taucos1', 10.52),\n",
       "             ('GM:tausin1', -0.714)])"
      ]
     },
     "execution_count": 13,
     "metadata": {},
     "output_type": "execute_result"
    }
   ],
   "source": [
    "model.get_parameter_dict()"
   ]
  },
  {
   "cell_type": "markdown",
   "metadata": {},
   "source": [
    "With the parameters properly set, we can now \"predict\" the density for any time we wish.\n",
    "Here we take 25 years half-daily:"
   ]
  },
  {
   "cell_type": "code",
   "execution_count": 14,
   "metadata": {},
   "outputs": [],
   "source": [
    "times = np.arange(1992, 2017.01, 0.5 / 365.25)\n",
    "pred = model.get_value(times)"
   ]
  },
  {
   "cell_type": "markdown",
   "metadata": {},
   "source": [
    "and then plot the result:"
   ]
  },
  {
   "cell_type": "code",
   "execution_count": 15,
   "metadata": {},
   "outputs": [
    {
     "data": {
      "image/png": "[encoded data removed]",
      "text/plain": [
       "<Figure size 720x480 with 1 Axes>"
      ]
     },
     "metadata": {
      "needs_background": "light"
     },
     "output_type": "display_data"
    }
   ],
   "source": [
    "plt.plot(times, pred, label=\"model\")\n",
    "plt.xlabel(\"time [Julian epoch]\")\n",
    "# The data were scaled by 10^-6 before fitting\n",
    "plt.ylabel(\"NO number density [10$^6$ cm$^{{-3}}$]\")\n",
    "plt.legend();"
   ]
  },
  {
   "cell_type": "markdown",
   "metadata": {},
   "source": [
    "### Setting the parameters from file"
   ]
  },
  {
   "cell_type": "markdown",
   "metadata": {},
   "source": [
    "Instead of making up some numbers for the parameters, we can take \"real\" ones.\n",
    "We use the ones determined by fitting the model to actual data,\n",
    "in this case SCIAMACHY nitric oxide daily zonal mean data."
   ]
  },
  {
   "cell_type": "raw",
   "metadata": {
    "raw_mimetype": "text/restructuredtext"
   },
   "source": [
    "The daily zonal mean data and the quantiles of the sampled parameters are available at\n",
    "https://zenodo.org/record/1342701 |DOI|\n",
    "\n",
    ".. |DOI| image:: https://zenodo.org/badge/DOI/10.5281/zenodo.1342701.svg\n",
    "    :target: https://doi.org/10.5281/zenodo.1342701"
   ]
  },
  {
   "cell_type": "markdown",
   "metadata": {},
   "source": [
    "We connect to zenodo and load the contents into memory.\n",
    "It's a rather small file so that should be no problem, but we need the requests and netCDF4 modules for that.\n",
    "The alternative would be to download a copy into the same folder as this notebook."
   ]
  },
  {
   "cell_type": "code",
   "execution_count": 16,
   "metadata": {},
   "outputs": [],
   "source": [
    "import requests\n",
    "import netCDF4\n",
    "\n",
    "def load_data_store(store, variables=None):\n",
    "    with xr.open_dataset(store, chunks={\"lat\": 9, \"alt\": 8}) as data_ds:\n",
    "        if variables is not None:\n",
    "            data_ds = data_ds[variables]\n",
    "        data_ds.load()\n",
    "        return data_ds\n",
    "\n",
    "def load_data_url(url, variables=None):\n",
    "    with requests.get(url, stream=True) as response:\n",
    "        nc4_ds = netCDF4.Dataset(\"data\", memory=response.content)\n",
    "        store = xr.backends.NetCDF4DataStore(nc4_ds)\n",
    "        return load_data_store(store, variables)"
   ]
  },
  {
   "cell_type": "code",
   "execution_count": 17,
   "metadata": {},
   "outputs": [],
   "source": [
    "zenodo_url = \"https://zenodo.org/record/1342701/files/NO_regress_quantiles_pGM_Lya_ltcs_exp1dscan60d_km32.nc\"\n",
    "\n",
    "# If you downloaded a copy, use load_data_store()\n",
    "# and replace the url by \"/path/to/<filename.nc>\"\n",
    "quants = load_data_url(zenodo_url)"
   ]
  },
  {
   "cell_type": "markdown",
   "metadata": {},
   "source": [
    "The data file contains the median together with the (0.16, 0.84), (0.025, 0.975),\n",
    "and (0.001, 0.999) quantiles corresponding to the 1$\\sigma$, 2$\\sigma$, and 3$\\sigma$ confidence regions.\n",
    "In particular, the contents of the quantiles dataset are:"
   ]
  },
  {
   "cell_type": "code",
   "execution_count": 18,
   "metadata": {},
   "outputs": [
    {
     "data": {
      "text/plain": [
       "<xarray.Dataset>\n",
       "Dimensions:            (alt: 16, lat: 18, quantile: 7)\n",
       "Coordinates:\n",
       "  * alt                (alt) float64 60.0 62.0 64.0 66.0 ... 84.0 86.0 88.0 90.0\n",
       "  * lat                (lat) float64 -85.0 -75.0 -65.0 -55.0 ... 65.0 75.0 85.0\n",
       "  * quantile           (quantile) float64 0.001 0.025 0.16 0.5 0.84 0.975 0.999\n",
       "Data variables:\n",
       "    kernel:log_rho     (lat, alt, quantile) float64 -5.52 -5.484 ... -5.161\n",
       "    kernel:log_sigma   (lat, alt, quantile) float64 2.889 2.915 ... 2.757 2.79\n",
       "    mean:GM:amp        (lat, alt, quantile) float64 1.3e-06 ... 0.01928\n",
       "    mean:GM:tau0       (lat, alt, quantile) float64 0.0007629 0.01872 ... 3.671\n",
       "    mean:GM:taucos1    (lat, alt, quantile) float64 -24.84 -15.97 ... 39.56\n",
       "    mean:GM:tausin1    (lat, alt, quantile) float64 -7.186 -4.072 ... -1.669\n",
       "    mean:Lya:amp       (lat, alt, quantile) float64 -19.22 -17.11 ... -3.432\n",
       "    mean:offset:value  (lat, alt, quantile) float64 5.568 13.26 ... 55.0 62.05"
      ]
     },
     "execution_count": 18,
     "metadata": {},
     "output_type": "execute_result"
    }
   ],
   "source": [
    "quants"
   ]
  },
  {
   "cell_type": "markdown",
   "metadata": {},
   "source": [
    "The dimensions of the available parameters are:"
   ]
  },
  {
   "cell_type": "code",
   "execution_count": 19,
   "metadata": {},
   "outputs": [
    {
     "data": {
      "text/plain": [
       "(<xarray.DataArray 'lat' (lat: 18)>\n",
       " array([-85., -75., -65., -55., -45., -35., -25., -15.,  -5.,   5.,  15.,  25.,\n",
       "         35.,  45.,  55.,  65.,  75.,  85.])\n",
       " Coordinates:\n",
       "   * lat      (lat) float64 -85.0 -75.0 -65.0 -55.0 -45.0 ... 55.0 65.0 75.0 85.0\n",
       " Attributes:\n",
       "     long_name:  latitude\n",
       "     units:      degrees_north, <xarray.DataArray 'alt' (alt: 16)>\n",
       " array([60., 62., 64., 66., 68., 70., 72., 74., 76., 78., 80., 82., 84., 86.,\n",
       "        88., 90.])\n",
       " Coordinates:\n",
       "   * alt      (alt) float64 60.0 62.0 64.0 66.0 68.0 ... 82.0 84.0 86.0 88.0 90.0\n",
       " Attributes:\n",
       "     long_name:  altitude\n",
       "     units:      km)"
      ]
     },
     "execution_count": 19,
     "metadata": {},
     "output_type": "execute_result"
    }
   ],
   "source": [
    "quants.lat, quants.alt"
   ]
  },
  {
   "cell_type": "markdown",
   "metadata": {},
   "source": [
    "We loop over the parameter names and set the parameters to the median values (`quantile=0.5`)\n",
    "for the selected altitude and latitude bin.\n",
    "The variables in the quantiles file were created using [celerite](https://github.com/dfm/celerite)\n",
    "which prepends \"mean:\" to the variables from the mean model."
   ]
  },
  {
   "cell_type": "code",
   "execution_count": 20,
   "metadata": {},
   "outputs": [],
   "source": [
    "# select latitude and altitude first\n",
    "latitude = 65\n",
    "altitude = 70\n",
    "\n",
    "for v in model.get_parameter_names():\n",
    "    model.set_parameter(v, quants[\"mean:{0}\".format(v)].sel(alt=altitude, lat=latitude, quantile=0.5))"
   ]
  },
  {
   "cell_type": "markdown",
   "metadata": {},
   "source": [
    "The parameters from the file are (actually pretty close to the ones above):"
   ]
  },
  {
   "cell_type": "code",
   "execution_count": 21,
   "metadata": {},
   "outputs": [
    {
     "data": {
      "text/plain": [
       "OrderedDict([('offset:value', -25.577781189820513),\n",
       "             ('Lya:amp', 6.259250259251973),\n",
       "             ('GM:amp', 0.08741185118056463),\n",
       "             ('GM:tau0', 1.5387433096984084),\n",
       "             ('GM:taucos1', 10.520064600296648),\n",
       "             ('GM:tausin1', -0.7141699243523804)])"
      ]
     },
     "execution_count": 21,
     "metadata": {},
     "output_type": "execute_result"
    }
   ],
   "source": [
    "model.get_parameter_dict()"
   ]
  },
  {
   "cell_type": "markdown",
   "metadata": {},
   "source": [
    "We take the same times as above (25 years half-daily) to predict the model values:"
   ]
  },
  {
   "cell_type": "code",
   "execution_count": 22,
   "metadata": {},
   "outputs": [],
   "source": [
    "pred = model.get_value(times)"
   ]
  },
  {
   "cell_type": "markdown",
   "metadata": {},
   "source": [
    "and then plot the result again:"
   ]
  },
  {
   "cell_type": "code",
   "execution_count": 23,
   "metadata": {},
   "outputs": [
    {
     "data": {
      "image/png": "[encoded data removed]",
      "text/plain": [
       "<Figure size 720x480 with 1 Axes>"
      ]
     },
     "metadata": {
      "needs_background": "light"
     },
     "output_type": "display_data"
    }
   ],
   "source": [
    "plt.plot(times, pred, label=\"model\")\n",
    "plt.xlabel(\"time [Julian epoch]\")\n",
    "# Again, the data were scaled by 10^-6 before fitting, so adjust the X-Axis label\n",
    "plt.ylabel(\"NO number density [10$^6$ cm$^{{-3}}$]\")\n",
    "plt.legend();"
   ]
  }
 ],
 "metadata": {
  "celltoolbar": "Raw Cell Format",
  "hide_input": false,
  "kernelspec": {
   "display_name": "Python 3",
   "language": "python",
   "name": "python3"
  },
  "language_info": {
   "codemirror_mode": {
    "name": "ipython",
    "version": 3
   },
   "file_extension": ".py",
   "mimetype": "text/x-python",
   "name": "python",
   "nbconvert_exporter": "python",
   "pygments_lexer": "ipython3",
   "version": "3.6.7"
  }
 },
 "nbformat": 4,
 "nbformat_minor": 2
}
